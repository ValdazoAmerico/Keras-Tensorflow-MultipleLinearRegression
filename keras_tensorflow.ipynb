{
  "nbformat": 4,
  "nbformat_minor": 0,
  "metadata": {
    "colab": {
      "name": "keras-tensorflow.ipynb",
      "provenance": [],
      "authorship_tag": "ABX9TyO3+9zQmnw+29rLu4N0kxr8",
      "include_colab_link": true
    },
    "kernelspec": {
      "name": "python3",
      "display_name": "Python 3"
    },
    "language_info": {
      "name": "python"
    },
    "accelerator": "GPU"
  },
  "cells": [
    {
      "cell_type": "markdown",
      "metadata": {
        "id": "view-in-github",
        "colab_type": "text"
      },
      "source": [
        "<a href=\"https://colab.research.google.com/github/ValdazoAmerico/Keras-Tensorflow-MultipleLinearRegression/blob/main/keras_tensorflow.ipynb\" target=\"_parent\"><img src=\"https://colab.research.google.com/assets/colab-badge.svg\" alt=\"Open In Colab\"/></a>"
      ]
    },
    {
      "cell_type": "code",
      "metadata": {
        "colab": {
          "base_uri": "https://localhost:8080/",
          "height": 35
        },
        "id": "tlJ3gh4sgDZ4",
        "outputId": "a68d0a3c-43b8-41ac-876d-13aed69551ac"
      },
      "source": [
        "import pandas as pd\n",
        "pd.__version__"
      ],
      "execution_count": 1,
      "outputs": [
        {
          "output_type": "execute_result",
          "data": {
            "application/vnd.google.colaboratory.intrinsic+json": {
              "type": "string"
            },
            "text/plain": [
              "'1.1.5'"
            ]
          },
          "metadata": {},
          "execution_count": 1
        }
      ]
    },
    {
      "cell_type": "code",
      "metadata": {
        "id": "tKvxR0s9gEyW"
      },
      "source": [
        "df = pd.read_csv('MultipleLinear.csv')"
      ],
      "execution_count": 2,
      "outputs": []
    },
    {
      "cell_type": "code",
      "metadata": {
        "colab": {
          "base_uri": "https://localhost:8080/"
        },
        "id": "icWLpocOgKok",
        "outputId": "2941bc9c-e164-417f-841c-44c55426862f"
      },
      "source": [
        "df.columns"
      ],
      "execution_count": 3,
      "outputs": [
        {
          "output_type": "execute_result",
          "data": {
            "text/plain": [
              "Index(['y', 'x1', 'x2'], dtype='object')"
            ]
          },
          "metadata": {},
          "execution_count": 3
        }
      ]
    },
    {
      "cell_type": "code",
      "metadata": {
        "id": "fxllj13kgMUe"
      },
      "source": [
        "dataset = df.values"
      ],
      "execution_count": 4,
      "outputs": []
    },
    {
      "cell_type": "code",
      "metadata": {
        "colab": {
          "base_uri": "https://localhost:8080/"
        },
        "id": "sE3HDKc8gpWu",
        "outputId": "4cc39fa9-7ad6-4314-e9d7-eb383e9e7a41"
      },
      "source": [
        "dataset"
      ],
      "execution_count": 5,
      "outputs": [
        {
          "output_type": "execute_result",
          "data": {
            "text/plain": [
              "array([[  16.68,    7.  ,  560.  ],\n",
              "       [  11.5 ,    3.  ,  220.  ],\n",
              "       [  12.03,    3.  ,  340.  ],\n",
              "       [  14.88,    4.  ,   80.  ],\n",
              "       [  13.75,    6.  ,  150.  ],\n",
              "       [  18.11,    7.  ,  330.  ],\n",
              "       [   8.  ,    2.  ,  110.  ],\n",
              "       [  17.83,    7.  ,  210.  ],\n",
              "       [  79.24,   30.  , 1460.  ],\n",
              "       [  21.5 ,    5.  ,  605.  ],\n",
              "       [  40.33,   16.  ,  688.  ],\n",
              "       [  21.  ,   10.  ,  215.  ],\n",
              "       [  13.5 ,    4.  ,  255.  ],\n",
              "       [  19.75,    6.  ,  462.  ],\n",
              "       [  24.  ,    9.  ,  448.  ],\n",
              "       [  29.  ,   10.  ,  776.  ],\n",
              "       [  15.35,    6.  ,  200.  ],\n",
              "       [  19.  ,    7.  ,  132.  ],\n",
              "       [   9.5 ,    3.  ,   36.  ],\n",
              "       [  35.1 ,   17.  ,  770.  ],\n",
              "       [  17.9 ,   10.  ,  140.  ],\n",
              "       [  52.32,   26.  ,  810.  ],\n",
              "       [  18.75,    9.  ,  450.  ],\n",
              "       [  19.83,    8.  ,  635.  ],\n",
              "       [  10.75,    4.  ,  150.  ]])"
            ]
          },
          "metadata": {},
          "execution_count": 5
        }
      ]
    },
    {
      "cell_type": "code",
      "metadata": {
        "id": "a0dJ820Dgppt"
      },
      "source": [
        "# Separar los valores en X,Y\n",
        "X = dataset[:, 1:3]\n",
        "Y  = dataset[:,0]"
      ],
      "execution_count": 16,
      "outputs": []
    },
    {
      "cell_type": "code",
      "metadata": {
        "colab": {
          "base_uri": "https://localhost:8080/"
        },
        "id": "FFtCXkvLg17k",
        "outputId": "12737422-2c9b-4eac-a8e1-08831d840d19"
      },
      "source": [
        "import tensorflow as tf\n",
        "from tensorflow import keras\n",
        "from tensorflow.keras import layers\n",
        "print(tf.__version__)"
      ],
      "execution_count": 18,
      "outputs": [
        {
          "output_type": "stream",
          "name": "stdout",
          "text": [
            "2.6.0\n"
          ]
        }
      ]
    },
    {
      "cell_type": "code",
      "metadata": {
        "id": "Yu8Ax6GLhsG6"
      },
      "source": [
        "def build_model():\n",
        "  model = keras.Sequential([\n",
        "        layers.Dense(64, activation='relu', input_shape=[2]),\n",
        "        layers.Dense(64, activation='relu'),\n",
        "        layers.Dense(1)\n",
        "  ])\n",
        "  optimizer = tf.keras.optimizers.RMSprop(learning_rate=0.001)\n",
        "\n",
        "  model.compile(loss='mse',\n",
        "                optimizer=optimizer,\n",
        "                metrics=['mae','mse'])\n",
        "  return model"
      ],
      "execution_count": 19,
      "outputs": []
    },
    {
      "cell_type": "code",
      "metadata": {
        "id": "Hw4Zbj76k-ZZ"
      },
      "source": [
        "model = build_model()"
      ],
      "execution_count": 20,
      "outputs": []
    },
    {
      "cell_type": "code",
      "metadata": {
        "colab": {
          "base_uri": "https://localhost:8080/"
        },
        "id": "TFaVtrhfijSj",
        "outputId": "712b4d5d-48b2-42b1-c517-85a78c344e9c"
      },
      "source": [
        "!pip install git+https://github.com/tensorflow/docs"
      ],
      "execution_count": 9,
      "outputs": [
        {
          "output_type": "stream",
          "name": "stdout",
          "text": [
            "Collecting git+https://github.com/tensorflow/docs\n",
            "  Cloning https://github.com/tensorflow/docs to /tmp/pip-req-build-zf8wwnut\n",
            "  Running command git clone -q https://github.com/tensorflow/docs /tmp/pip-req-build-zf8wwnut\n",
            "Requirement already satisfied: astor in /usr/local/lib/python3.7/dist-packages (from tensorflow-docs==0.0.0.dev0) (0.8.1)\n",
            "Requirement already satisfied: absl-py in /usr/local/lib/python3.7/dist-packages (from tensorflow-docs==0.0.0.dev0) (0.12.0)\n",
            "Requirement already satisfied: protobuf>=3.14 in /usr/local/lib/python3.7/dist-packages (from tensorflow-docs==0.0.0.dev0) (3.17.3)\n",
            "Requirement already satisfied: pyyaml in /usr/local/lib/python3.7/dist-packages (from tensorflow-docs==0.0.0.dev0) (3.13)\n",
            "Requirement already satisfied: six>=1.9 in /usr/local/lib/python3.7/dist-packages (from protobuf>=3.14->tensorflow-docs==0.0.0.dev0) (1.15.0)\n"
          ]
        }
      ]
    },
    {
      "cell_type": "code",
      "metadata": {
        "id": "AAH-Vg4bkZNc"
      },
      "source": [
        "import tensorflow_docs as tfdocs\n",
        "import tensorflow_docs.modeling"
      ],
      "execution_count": 10,
      "outputs": []
    },
    {
      "cell_type": "code",
      "metadata": {
        "colab": {
          "base_uri": "https://localhost:8080/"
        },
        "id": "4zbx_oFikhii",
        "outputId": "13d28ecf-e1f8-4324-c41e-2d73e1399a60"
      },
      "source": [
        "EPOCHS = 1000\n",
        "history = model.fit(X, Y, epochs=EPOCHS, verbose=0, callbacks=[tfdocs.modeling.EpochDots()])"
      ],
      "execution_count": 27,
      "outputs": [
        {
          "output_type": "stream",
          "name": "stdout",
          "text": [
            "\n",
            "Epoch: 0, loss:9.8509,  mae:2.2602,  mse:9.8509,  \n",
            "....................................................................................................\n",
            "Epoch: 100, loss:8.1643,  mae:2.1465,  mse:8.1643,  \n",
            "....................................................................................................\n",
            "Epoch: 200, loss:7.1833,  mae:1.9684,  mse:7.1833,  \n",
            "....................................................................................................\n",
            "Epoch: 300, loss:7.1745,  mae:2.1040,  mse:7.1745,  \n",
            "....................................................................................................\n",
            "Epoch: 400, loss:6.5584,  mae:1.9474,  mse:6.5584,  \n",
            "....................................................................................................\n",
            "Epoch: 500, loss:12.1293,  mae:2.9957,  mse:12.1293,  \n",
            "....................................................................................................\n",
            "Epoch: 600, loss:8.0190,  mae:2.0940,  mse:8.0190,  \n",
            "....................................................................................................\n",
            "Epoch: 700, loss:6.1289,  mae:1.8286,  mse:6.1289,  \n",
            "....................................................................................................\n",
            "Epoch: 800, loss:6.7117,  mae:1.8714,  mse:6.7117,  \n",
            "....................................................................................................\n",
            "Epoch: 900, loss:7.9010,  mae:2.1040,  mse:7.9010,  \n",
            "...................................................................................................."
          ]
        }
      ]
    },
    {
      "cell_type": "code",
      "metadata": {
        "colab": {
          "base_uri": "https://localhost:8080/",
          "height": 279
        },
        "id": "uDNd7W-GlEL9",
        "outputId": "5cae3d5e-89c3-4243-a635-637faca56fd1"
      },
      "source": [
        "import matplotlib.pyplot as plt\n",
        "test_predictions = model.predict(X).flatten()\n",
        "a = plt.axes(aspect='equal')\n",
        "plt.scatter(Y, test_predictions)\n",
        "plt.xlabel('X')\n",
        "plt.ylabel('Y')\n",
        "_=plt.plot(Y,Y,color='orange')"
      ],
      "execution_count": 28,
      "outputs": [
        {
          "output_type": "display_data",
          "data": {
            "image/png": "[encoded data removed]",
            "text/plain": [
              "<Figure size 432x288 with 1 Axes>"
            ]
          },
          "metadata": {
            "needs_background": "light"
          }
        }
      ]
    },
    {
      "cell_type": "code",
      "metadata": {
        "colab": {
          "base_uri": "https://localhost:8080/"
        },
        "id": "AO6okPMslmA_",
        "outputId": "efac2740-77ee-445e-f808-ae734090cd47"
      },
      "source": [
        "import numpy as np\n",
        "model.predict(np.array([[2,110]]))"
      ],
      "execution_count": 29,
      "outputs": [
        {
          "output_type": "execute_result",
          "data": {
            "text/plain": [
              "array([[7.682521]], dtype=float32)"
            ]
          },
          "metadata": {},
          "execution_count": 29
        }
      ]
    }
  ]
}